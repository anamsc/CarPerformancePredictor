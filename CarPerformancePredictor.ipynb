{
  "nbformat": 4,
  "nbformat_minor": 0,
  "metadata": {
    "colab": {
      "provenance": []
    },
    "kernelspec": {
      "name": "python3",
      "display_name": "Python 3"
    },
    "language_info": {
      "name": "python"
    }
  },
  "cells": [
    {
      "cell_type": "markdown",
      "source": [
        "\n",
        "# Ana María Sánchez Corredor\n",
        "\n",
        "# 15 de noviembre de 2023"
      ],
      "metadata": {
        "id": "hKVgzA_4FjQj"
      }
    },
    {
      "cell_type": "markdown",
      "source": [
        "# 1. Exploración del dataset"
      ],
      "metadata": {
        "id": "Sea0YGD2NVXq"
      }
    },
    {
      "cell_type": "code",
      "source": [
        "import pandas as pd\n",
        "import numpy as np\n",
        "import matplotlib.pyplot as plt\n",
        "import seaborn as sns"
      ],
      "metadata": {
        "id": "C0x7lukNFO0E"
      },
      "execution_count": null,
      "outputs": []
    },
    {
      "cell_type": "code",
      "source": [
        "#se crea el enlace\n",
        "url = 'https://raw.githubusercontent.com/corredor-john/ExploratoryDataAnalisys/main/Varios/cars1.csv'\n",
        "#Se genera el objeto dataframe\n",
        "df = pd.read_csv(url, delimiter = ',')\n",
        "#inspección visual\n",
        "df.head()"
      ],
      "metadata": {
        "colab": {
          "base_uri": "https://localhost:8080/",
          "height": 206
        },
        "id": "9FweMvfsFRIb",
        "outputId": "6b16d12a-b43f-4821-d7ae-3b81afe0ad56"
      },
      "execution_count": null,
      "outputs": [
        {
          "output_type": "execute_result",
          "data": {
            "text/plain": [
              "    mpg  cylinders  displacement horsepower  weight  acceleration  model  \\\n",
              "0  18.0          8           307        130    3504          12.0     70   \n",
              "1  15.0          8           350        165    3693          11.5     70   \n",
              "2  18.0          8           318        150    3436          11.0     70   \n",
              "3  16.0          8           304        150    3433          12.0     70   \n",
              "4  17.0          8           302        140    3449          10.5     70   \n",
              "\n",
              "   origin                        car  Unnamed: 9  Unnamed: 10  Unnamed: 11  \\\n",
              "0       1  chevrolet chevelle malibu         NaN          NaN          NaN   \n",
              "1       1          buick skylark 320         NaN          NaN          NaN   \n",
              "2       1         plymouth satellite         NaN          NaN          NaN   \n",
              "3       1              amc rebel sst         NaN          NaN          NaN   \n",
              "4       1                ford torino         NaN          NaN          NaN   \n",
              "\n",
              "   Unnamed: 12  Unnamed: 13  \n",
              "0          NaN          NaN  \n",
              "1          NaN          NaN  \n",
              "2          NaN          NaN  \n",
              "3          NaN          NaN  \n",
              "4          NaN          NaN  "
            ],
            "text/html": [
              "\n",
              "  <div id=\"df-979e1420-79e9-4e98-9122-7992d849c2e0\" class=\"colab-df-container\">\n",
              "    <div>\n",
              "<style scoped>\n",
              "    .dataframe tbody tr th:only-of-type {\n",
              "        vertical-align: middle;\n",
              "    }\n",
              "\n",
              "    .dataframe tbody tr th {\n",
              "        vertical-align: top;\n",
              "    }\n",
              "\n",
              "    .dataframe thead th {\n",
              "        text-align: right;\n",
              "    }\n",
              "</style>\n",
              "<table border=\"1\" class=\"dataframe\">\n",
              "  <thead>\n",
              "    <tr style=\"text-align: right;\">\n",
              "      <th></th>\n",
              "      <th>mpg</th>\n",
              "      <th>cylinders</th>\n",
              "      <th>displacement</th>\n",
              "      <th>horsepower</th>\n",
              "      <th>weight</th>\n",
              "      <th>acceleration</th>\n",
              "      <th>model</th>\n",
              "      <th>origin</th>\n",
              "      <th>car</th>\n",
              "      <th>Unnamed: 9</th>\n",
              "      <th>Unnamed: 10</th>\n",
              "      <th>Unnamed: 11</th>\n",
              "      <th>Unnamed: 12</th>\n",
              "      <th>Unnamed: 13</th>\n",
              "    </tr>\n",
              "  </thead>\n",
              "  <tbody>\n",
              "    <tr>\n",
              "      <th>0</th>\n",
              "      <td>18.0</td>\n",
              "      <td>8</td>\n",
              "      <td>307</td>\n",
              "      <td>130</td>\n",
              "      <td>3504</td>\n",
              "      <td>12.0</td>\n",
              "      <td>70</td>\n",
              "      <td>1</td>\n",
              "      <td>chevrolet chevelle malibu</td>\n",
              "      <td>NaN</td>\n",
              "      <td>NaN</td>\n",
              "      <td>NaN</td>\n",
              "      <td>NaN</td>\n",
              "      <td>NaN</td>\n",
              "    </tr>\n",
              "    <tr>\n",
              "      <th>1</th>\n",
              "      <td>15.0</td>\n",
              "      <td>8</td>\n",
              "      <td>350</td>\n",
              "      <td>165</td>\n",
              "      <td>3693</td>\n",
              "      <td>11.5</td>\n",
              "      <td>70</td>\n",
              "      <td>1</td>\n",
              "      <td>buick skylark 320</td>\n",
              "      <td>NaN</td>\n",
              "      <td>NaN</td>\n",
              "      <td>NaN</td>\n",
              "      <td>NaN</td>\n",
              "      <td>NaN</td>\n",
              "    </tr>\n",
              "    <tr>\n",
              "      <th>2</th>\n",
              "      <td>18.0</td>\n",
              "      <td>8</td>\n",
              "      <td>318</td>\n",
              "      <td>150</td>\n",
              "      <td>3436</td>\n",
              "      <td>11.0</td>\n",
              "      <td>70</td>\n",
              "      <td>1</td>\n",
              "      <td>plymouth satellite</td>\n",
              "      <td>NaN</td>\n",
              "      <td>NaN</td>\n",
              "      <td>NaN</td>\n",
              "      <td>NaN</td>\n",
              "      <td>NaN</td>\n",
              "    </tr>\n",
              "    <tr>\n",
              "      <th>3</th>\n",
              "      <td>16.0</td>\n",
              "      <td>8</td>\n",
              "      <td>304</td>\n",
              "      <td>150</td>\n",
              "      <td>3433</td>\n",
              "      <td>12.0</td>\n",
              "      <td>70</td>\n",
              "      <td>1</td>\n",
              "      <td>amc rebel sst</td>\n",
              "      <td>NaN</td>\n",
              "      <td>NaN</td>\n",
              "      <td>NaN</td>\n",
              "      <td>NaN</td>\n",
              "      <td>NaN</td>\n",
              "    </tr>\n",
              "    <tr>\n",
              "      <th>4</th>\n",
              "      <td>17.0</td>\n",
              "      <td>8</td>\n",
              "      <td>302</td>\n",
              "      <td>140</td>\n",
              "      <td>3449</td>\n",
              "      <td>10.5</td>\n",
              "      <td>70</td>\n",
              "      <td>1</td>\n",
              "      <td>ford torino</td>\n",
              "      <td>NaN</td>\n",
              "      <td>NaN</td>\n",
              "      <td>NaN</td>\n",
              "      <td>NaN</td>\n",
              "      <td>NaN</td>\n",
              "    </tr>\n",
              "  </tbody>\n",
              "</table>\n",
              "</div>\n",
              "    <div class=\"colab-df-buttons\">\n",
              "\n",
              "  <div class=\"colab-df-container\">\n",
              "    <button class=\"colab-df-convert\" onclick=\"convertToInteractive('df-979e1420-79e9-4e98-9122-7992d849c2e0')\"\n",
              "            title=\"Convert this dataframe to an interactive table.\"\n",
              "            style=\"display:none;\">\n",
              "\n",
              "  <svg xmlns=\"http://www.w3.org/2000/svg\" height=\"24px\" viewBox=\"0 -960 960 960\">\n",
              "    <path d=\"M120-120v-720h720v720H120Zm60-500h600v-160H180v160Zm220 220h160v-160H400v160Zm0 220h160v-160H400v160ZM180-400h160v-160H180v160Zm440 0h160v-160H620v160ZM180-180h160v-160H180v160Zm440 0h160v-160H620v160Z\"/>\n",
              "  </svg>\n",
              "    </button>\n",
              "\n",
              "  <style>\n",
              "    .colab-df-container {\n",
              "      display:flex;\n",
              "      gap: 12px;\n",
              "    }\n",
              "\n",
              "    .colab-df-convert {\n",
              "      background-color: #E8F0FE;\n",
              "      border: none;\n",
              "      border-radius: 50%;\n",
              "      cursor: pointer;\n",
              "      display: none;\n",
              "      fill: #1967D2;\n",
              "      height: 32px;\n",
              "      padding: 0 0 0 0;\n",
              "      width: 32px;\n",
              "    }\n",
              "\n",
              "    .colab-df-convert:hover {\n",
              "      background-color: #E2EBFA;\n",
              "      box-shadow: 0px 1px 2px rgba(60, 64, 67, 0.3), 0px 1px 3px 1px rgba(60, 64, 67, 0.15);\n",
              "      fill: #174EA6;\n",
              "    }\n",
              "\n",
              "    .colab-df-buttons div {\n",
              "      margin-bottom: 4px;\n",
              "    }\n",
              "\n",
              "    [theme=dark] .colab-df-convert {\n",
              "      background-color: #3B4455;\n",
              "      fill: #D2E3FC;\n",
              "    }\n",
              "\n",
              "    [theme=dark] .colab-df-convert:hover {\n",
              "      background-color: #434B5C;\n",
              "      box-shadow: 0px 1px 3px 1px rgba(0, 0, 0, 0.15);\n",
              "      filter: drop-shadow(0px 1px 2px rgba(0, 0, 0, 0.3));\n",
              "      fill: #FFFFFF;\n",
              "    }\n",
              "  </style>\n",
              "\n",
              "    <script>\n",
              "      const buttonEl =\n",
              "        document.querySelector('#df-979e1420-79e9-4e98-9122-7992d849c2e0 button.colab-df-convert');\n",
              "      buttonEl.style.display =\n",
              "        google.colab.kernel.accessAllowed ? 'block' : 'none';\n",
              "\n",
              "      async function convertToInteractive(key) {\n",
              "        const element = document.querySelector('#df-979e1420-79e9-4e98-9122-7992d849c2e0');\n",
              "        const dataTable =\n",
              "          await google.colab.kernel.invokeFunction('convertToInteractive',\n",
              "                                                    [key], {});\n",
              "        if (!dataTable) return;\n",
              "\n",
              "        const docLinkHtml = 'Like what you see? Visit the ' +\n",
              "          '<a target=\"_blank\" href=https://colab.research.google.com/notebooks/data_table.ipynb>data table notebook</a>'\n",
              "          + ' to learn more about interactive tables.';\n",
              "        element.innerHTML = '';\n",
              "        dataTable['output_type'] = 'display_data';\n",
              "        await google.colab.output.renderOutput(dataTable, element);\n",
              "        const docLink = document.createElement('div');\n",
              "        docLink.innerHTML = docLinkHtml;\n",
              "        element.appendChild(docLink);\n",
              "      }\n",
              "    </script>\n",
              "  </div>\n",
              "\n",
              "\n",
              "<div id=\"df-57268146-9e57-417a-a0a1-e453ac8dd3ff\">\n",
              "  <button class=\"colab-df-quickchart\" onclick=\"quickchart('df-57268146-9e57-417a-a0a1-e453ac8dd3ff')\"\n",
              "            title=\"Suggest charts\"\n",
              "            style=\"display:none;\">\n",
              "\n",
              "<svg xmlns=\"http://www.w3.org/2000/svg\" height=\"24px\"viewBox=\"0 0 24 24\"\n",
              "     width=\"24px\">\n",
              "    <g>\n",
              "        <path d=\"M19 3H5c-1.1 0-2 .9-2 2v14c0 1.1.9 2 2 2h14c1.1 0 2-.9 2-2V5c0-1.1-.9-2-2-2zM9 17H7v-7h2v7zm4 0h-2V7h2v10zm4 0h-2v-4h2v4z\"/>\n",
              "    </g>\n",
              "</svg>\n",
              "  </button>\n",
              "\n",
              "<style>\n",
              "  .colab-df-quickchart {\n",
              "      --bg-color: #E8F0FE;\n",
              "      --fill-color: #1967D2;\n",
              "      --hover-bg-color: #E2EBFA;\n",
              "      --hover-fill-color: #174EA6;\n",
              "      --disabled-fill-color: #AAA;\n",
              "      --disabled-bg-color: #DDD;\n",
              "  }\n",
              "\n",
              "  [theme=dark] .colab-df-quickchart {\n",
              "      --bg-color: #3B4455;\n",
              "      --fill-color: #D2E3FC;\n",
              "      --hover-bg-color: #434B5C;\n",
              "      --hover-fill-color: #FFFFFF;\n",
              "      --disabled-bg-color: #3B4455;\n",
              "      --disabled-fill-color: #666;\n",
              "  }\n",
              "\n",
              "  .colab-df-quickchart {\n",
              "    background-color: var(--bg-color);\n",
              "    border: none;\n",
              "    border-radius: 50%;\n",
              "    cursor: pointer;\n",
              "    display: none;\n",
              "    fill: var(--fill-color);\n",
              "    height: 32px;\n",
              "    padding: 0;\n",
              "    width: 32px;\n",
              "  }\n",
              "\n",
              "  .colab-df-quickchart:hover {\n",
              "    background-color: var(--hover-bg-color);\n",
              "    box-shadow: 0 1px 2px rgba(60, 64, 67, 0.3), 0 1px 3px 1px rgba(60, 64, 67, 0.15);\n",
              "    fill: var(--button-hover-fill-color);\n",
              "  }\n",
              "\n",
              "  .colab-df-quickchart-complete:disabled,\n",
              "  .colab-df-quickchart-complete:disabled:hover {\n",
              "    background-color: var(--disabled-bg-color);\n",
              "    fill: var(--disabled-fill-color);\n",
              "    box-shadow: none;\n",
              "  }\n",
              "\n",
              "  .colab-df-spinner {\n",
              "    border: 2px solid var(--fill-color);\n",
              "    border-color: transparent;\n",
              "    border-bottom-color: var(--fill-color);\n",
              "    animation:\n",
              "      spin 1s steps(1) infinite;\n",
              "  }\n",
              "\n",
              "  @keyframes spin {\n",
              "    0% {\n",
              "      border-color: transparent;\n",
              "      border-bottom-color: var(--fill-color);\n",
              "      border-left-color: var(--fill-color);\n",
              "    }\n",
              "    20% {\n",
              "      border-color: transparent;\n",
              "      border-left-color: var(--fill-color);\n",
              "      border-top-color: var(--fill-color);\n",
              "    }\n",
              "    30% {\n",
              "      border-color: transparent;\n",
              "      border-left-color: var(--fill-color);\n",
              "      border-top-color: var(--fill-color);\n",
              "      border-right-color: var(--fill-color);\n",
              "    }\n",
              "    40% {\n",
              "      border-color: transparent;\n",
              "      border-right-color: var(--fill-color);\n",
              "      border-top-color: var(--fill-color);\n",
              "    }\n",
              "    60% {\n",
              "      border-color: transparent;\n",
              "      border-right-color: var(--fill-color);\n",
              "    }\n",
              "    80% {\n",
              "      border-color: transparent;\n",
              "      border-right-color: var(--fill-color);\n",
              "      border-bottom-color: var(--fill-color);\n",
              "    }\n",
              "    90% {\n",
              "      border-color: transparent;\n",
              "      border-bottom-color: var(--fill-color);\n",
              "    }\n",
              "  }\n",
              "</style>\n",
              "\n",
              "  <script>\n",
              "    async function quickchart(key) {\n",
              "      const quickchartButtonEl =\n",
              "        document.querySelector('#' + key + ' button');\n",
              "      quickchartButtonEl.disabled = true;  // To prevent multiple clicks.\n",
              "      quickchartButtonEl.classList.add('colab-df-spinner');\n",
              "      try {\n",
              "        const charts = await google.colab.kernel.invokeFunction(\n",
              "            'suggestCharts', [key], {});\n",
              "      } catch (error) {\n",
              "        console.error('Error during call to suggestCharts:', error);\n",
              "      }\n",
              "      quickchartButtonEl.classList.remove('colab-df-spinner');\n",
              "      quickchartButtonEl.classList.add('colab-df-quickchart-complete');\n",
              "    }\n",
              "    (() => {\n",
              "      let quickchartButtonEl =\n",
              "        document.querySelector('#df-57268146-9e57-417a-a0a1-e453ac8dd3ff button');\n",
              "      quickchartButtonEl.style.display =\n",
              "        google.colab.kernel.accessAllowed ? 'block' : 'none';\n",
              "    })();\n",
              "  </script>\n",
              "</div>\n",
              "    </div>\n",
              "  </div>\n"
            ]
          },
          "metadata": {},
          "execution_count": 3
        }
      ]
    },
    {
      "cell_type": "code",
      "source": [
        "#información general del dataframe\n",
        "df.describe()"
      ],
      "metadata": {
        "colab": {
          "base_uri": "https://localhost:8080/",
          "height": 300
        },
        "id": "OogkJwDZFe9r",
        "outputId": "3a85471b-eccf-40b9-8e27-e3f3ea520c6a"
      },
      "execution_count": null,
      "outputs": [
        {
          "output_type": "execute_result",
          "data": {
            "text/plain": [
              "              mpg   cylinders  displacement       weight  acceleration  \\\n",
              "count  198.000000  198.000000    198.000000   198.000000    198.000000   \n",
              "mean    19.719697    5.898990    223.469697  3177.888889     15.005556   \n",
              "std      5.814254    1.785417    115.181017   934.783733      2.872382   \n",
              "min      9.000000    3.000000     68.000000  1613.000000      8.000000   \n",
              "25%     15.000000    4.000000    113.250000  2302.500000     13.000000   \n",
              "50%     19.000000    6.000000    228.000000  3030.000000     15.000000   \n",
              "75%     24.375000    8.000000    318.000000  4080.750000     16.800000   \n",
              "max     35.000000    8.000000    455.000000  5140.000000     23.500000   \n",
              "\n",
              "            model      origin  Unnamed: 9  Unnamed: 10  Unnamed: 11  \\\n",
              "count  198.000000  198.000000         0.0          0.0          0.0   \n",
              "mean    72.818182    1.439394         NaN          NaN          NaN   \n",
              "std      1.865332    0.708085         NaN          NaN          NaN   \n",
              "min     70.000000    1.000000         NaN          NaN          NaN   \n",
              "25%     71.000000    1.000000         NaN          NaN          NaN   \n",
              "50%     73.000000    1.000000         NaN          NaN          NaN   \n",
              "75%     74.000000    2.000000         NaN          NaN          NaN   \n",
              "max     76.000000    3.000000         NaN          NaN          NaN   \n",
              "\n",
              "       Unnamed: 12  Unnamed: 13  \n",
              "count          0.0          0.0  \n",
              "mean           NaN          NaN  \n",
              "std            NaN          NaN  \n",
              "min            NaN          NaN  \n",
              "25%            NaN          NaN  \n",
              "50%            NaN          NaN  \n",
              "75%            NaN          NaN  \n",
              "max            NaN          NaN  "
            ],
            "text/html": [
              "\n",
              "  <div id=\"df-5628b058-bdda-4447-8737-7c64b076faf3\" class=\"colab-df-container\">\n",
              "    <div>\n",
              "<style scoped>\n",
              "    .dataframe tbody tr th:only-of-type {\n",
              "        vertical-align: middle;\n",
              "    }\n",
              "\n",
              "    .dataframe tbody tr th {\n",
              "        vertical-align: top;\n",
              "    }\n",
              "\n",
              "    .dataframe thead th {\n",
              "        text-align: right;\n",
              "    }\n",
              "</style>\n",
              "<table border=\"1\" class=\"dataframe\">\n",
              "  <thead>\n",
              "    <tr style=\"text-align: right;\">\n",
              "      <th></th>\n",
              "      <th>mpg</th>\n",
              "      <th>cylinders</th>\n",
              "      <th>displacement</th>\n",
              "      <th>weight</th>\n",
              "      <th>acceleration</th>\n",
              "      <th>model</th>\n",
              "      <th>origin</th>\n",
              "      <th>Unnamed: 9</th>\n",
              "      <th>Unnamed: 10</th>\n",
              "      <th>Unnamed: 11</th>\n",
              "      <th>Unnamed: 12</th>\n",
              "      <th>Unnamed: 13</th>\n",
              "    </tr>\n",
              "  </thead>\n",
              "  <tbody>\n",
              "    <tr>\n",
              "      <th>count</th>\n",
              "      <td>198.000000</td>\n",
              "      <td>198.000000</td>\n",
              "      <td>198.000000</td>\n",
              "      <td>198.000000</td>\n",
              "      <td>198.000000</td>\n",
              "      <td>198.000000</td>\n",
              "      <td>198.000000</td>\n",
              "      <td>0.0</td>\n",
              "      <td>0.0</td>\n",
              "      <td>0.0</td>\n",
              "      <td>0.0</td>\n",
              "      <td>0.0</td>\n",
              "    </tr>\n",
              "    <tr>\n",
              "      <th>mean</th>\n",
              "      <td>19.719697</td>\n",
              "      <td>5.898990</td>\n",
              "      <td>223.469697</td>\n",
              "      <td>3177.888889</td>\n",
              "      <td>15.005556</td>\n",
              "      <td>72.818182</td>\n",
              "      <td>1.439394</td>\n",
              "      <td>NaN</td>\n",
              "      <td>NaN</td>\n",
              "      <td>NaN</td>\n",
              "      <td>NaN</td>\n",
              "      <td>NaN</td>\n",
              "    </tr>\n",
              "    <tr>\n",
              "      <th>std</th>\n",
              "      <td>5.814254</td>\n",
              "      <td>1.785417</td>\n",
              "      <td>115.181017</td>\n",
              "      <td>934.783733</td>\n",
              "      <td>2.872382</td>\n",
              "      <td>1.865332</td>\n",
              "      <td>0.708085</td>\n",
              "      <td>NaN</td>\n",
              "      <td>NaN</td>\n",
              "      <td>NaN</td>\n",
              "      <td>NaN</td>\n",
              "      <td>NaN</td>\n",
              "    </tr>\n",
              "    <tr>\n",
              "      <th>min</th>\n",
              "      <td>9.000000</td>\n",
              "      <td>3.000000</td>\n",
              "      <td>68.000000</td>\n",
              "      <td>1613.000000</td>\n",
              "      <td>8.000000</td>\n",
              "      <td>70.000000</td>\n",
              "      <td>1.000000</td>\n",
              "      <td>NaN</td>\n",
              "      <td>NaN</td>\n",
              "      <td>NaN</td>\n",
              "      <td>NaN</td>\n",
              "      <td>NaN</td>\n",
              "    </tr>\n",
              "    <tr>\n",
              "      <th>25%</th>\n",
              "      <td>15.000000</td>\n",
              "      <td>4.000000</td>\n",
              "      <td>113.250000</td>\n",
              "      <td>2302.500000</td>\n",
              "      <td>13.000000</td>\n",
              "      <td>71.000000</td>\n",
              "      <td>1.000000</td>\n",
              "      <td>NaN</td>\n",
              "      <td>NaN</td>\n",
              "      <td>NaN</td>\n",
              "      <td>NaN</td>\n",
              "      <td>NaN</td>\n",
              "    </tr>\n",
              "    <tr>\n",
              "      <th>50%</th>\n",
              "      <td>19.000000</td>\n",
              "      <td>6.000000</td>\n",
              "      <td>228.000000</td>\n",
              "      <td>3030.000000</td>\n",
              "      <td>15.000000</td>\n",
              "      <td>73.000000</td>\n",
              "      <td>1.000000</td>\n",
              "      <td>NaN</td>\n",
              "      <td>NaN</td>\n",
              "      <td>NaN</td>\n",
              "      <td>NaN</td>\n",
              "      <td>NaN</td>\n",
              "    </tr>\n",
              "    <tr>\n",
              "      <th>75%</th>\n",
              "      <td>24.375000</td>\n",
              "      <td>8.000000</td>\n",
              "      <td>318.000000</td>\n",
              "      <td>4080.750000</td>\n",
              "      <td>16.800000</td>\n",
              "      <td>74.000000</td>\n",
              "      <td>2.000000</td>\n",
              "      <td>NaN</td>\n",
              "      <td>NaN</td>\n",
              "      <td>NaN</td>\n",
              "      <td>NaN</td>\n",
              "      <td>NaN</td>\n",
              "    </tr>\n",
              "    <tr>\n",
              "      <th>max</th>\n",
              "      <td>35.000000</td>\n",
              "      <td>8.000000</td>\n",
              "      <td>455.000000</td>\n",
              "      <td>5140.000000</td>\n",
              "      <td>23.500000</td>\n",
              "      <td>76.000000</td>\n",
              "      <td>3.000000</td>\n",
              "      <td>NaN</td>\n",
              "      <td>NaN</td>\n",
              "      <td>NaN</td>\n",
              "      <td>NaN</td>\n",
              "      <td>NaN</td>\n",
              "    </tr>\n",
              "  </tbody>\n",
              "</table>\n",
              "</div>\n",
              "    <div class=\"colab-df-buttons\">\n",
              "\n",
              "  <div class=\"colab-df-container\">\n",
              "    <button class=\"colab-df-convert\" onclick=\"convertToInteractive('df-5628b058-bdda-4447-8737-7c64b076faf3')\"\n",
              "            title=\"Convert this dataframe to an interactive table.\"\n",
              "            style=\"display:none;\">\n",
              "\n",
              "  <svg xmlns=\"http://www.w3.org/2000/svg\" height=\"24px\" viewBox=\"0 -960 960 960\">\n",
              "    <path d=\"M120-120v-720h720v720H120Zm60-500h600v-160H180v160Zm220 220h160v-160H400v160Zm0 220h160v-160H400v160ZM180-400h160v-160H180v160Zm440 0h160v-160H620v160ZM180-180h160v-160H180v160Zm440 0h160v-160H620v160Z\"/>\n",
              "  </svg>\n",
              "    </button>\n",
              "\n",
              "  <style>\n",
              "    .colab-df-container {\n",
              "      display:flex;\n",
              "      gap: 12px;\n",
              "    }\n",
              "\n",
              "    .colab-df-convert {\n",
              "      background-color: #E8F0FE;\n",
              "      border: none;\n",
              "      border-radius: 50%;\n",
              "      cursor: pointer;\n",
              "      display: none;\n",
              "      fill: #1967D2;\n",
              "      height: 32px;\n",
              "      padding: 0 0 0 0;\n",
              "      width: 32px;\n",
              "    }\n",
              "\n",
              "    .colab-df-convert:hover {\n",
              "      background-color: #E2EBFA;\n",
              "      box-shadow: 0px 1px 2px rgba(60, 64, 67, 0.3), 0px 1px 3px 1px rgba(60, 64, 67, 0.15);\n",
              "      fill: #174EA6;\n",
              "    }\n",
              "\n",
              "    .colab-df-buttons div {\n",
              "      margin-bottom: 4px;\n",
              "    }\n",
              "\n",
              "    [theme=dark] .colab-df-convert {\n",
              "      background-color: #3B4455;\n",
              "      fill: #D2E3FC;\n",
              "    }\n",
              "\n",
              "    [theme=dark] .colab-df-convert:hover {\n",
              "      background-color: #434B5C;\n",
              "      box-shadow: 0px 1px 3px 1px rgba(0, 0, 0, 0.15);\n",
              "      filter: drop-shadow(0px 1px 2px rgba(0, 0, 0, 0.3));\n",
              "      fill: #FFFFFF;\n",
              "    }\n",
              "  </style>\n",
              "\n",
              "    <script>\n",
              "      const buttonEl =\n",
              "        document.querySelector('#df-5628b058-bdda-4447-8737-7c64b076faf3 button.colab-df-convert');\n",
              "      buttonEl.style.display =\n",
              "        google.colab.kernel.accessAllowed ? 'block' : 'none';\n",
              "\n",
              "      async function convertToInteractive(key) {\n",
              "        const element = document.querySelector('#df-5628b058-bdda-4447-8737-7c64b076faf3');\n",
              "        const dataTable =\n",
              "          await google.colab.kernel.invokeFunction('convertToInteractive',\n",
              "                                                    [key], {});\n",
              "        if (!dataTable) return;\n",
              "\n",
              "        const docLinkHtml = 'Like what you see? Visit the ' +\n",
              "          '<a target=\"_blank\" href=https://colab.research.google.com/notebooks/data_table.ipynb>data table notebook</a>'\n",
              "          + ' to learn more about interactive tables.';\n",
              "        element.innerHTML = '';\n",
              "        dataTable['output_type'] = 'display_data';\n",
              "        await google.colab.output.renderOutput(dataTable, element);\n",
              "        const docLink = document.createElement('div');\n",
              "        docLink.innerHTML = docLinkHtml;\n",
              "        element.appendChild(docLink);\n",
              "      }\n",
              "    </script>\n",
              "  </div>\n",
              "\n",
              "\n",
              "<div id=\"df-c7a3dfae-d6c1-4c03-821a-e5b5f65de63a\">\n",
              "  <button class=\"colab-df-quickchart\" onclick=\"quickchart('df-c7a3dfae-d6c1-4c03-821a-e5b5f65de63a')\"\n",
              "            title=\"Suggest charts\"\n",
              "            style=\"display:none;\">\n",
              "\n",
              "<svg xmlns=\"http://www.w3.org/2000/svg\" height=\"24px\"viewBox=\"0 0 24 24\"\n",
              "     width=\"24px\">\n",
              "    <g>\n",
              "        <path d=\"M19 3H5c-1.1 0-2 .9-2 2v14c0 1.1.9 2 2 2h14c1.1 0 2-.9 2-2V5c0-1.1-.9-2-2-2zM9 17H7v-7h2v7zm4 0h-2V7h2v10zm4 0h-2v-4h2v4z\"/>\n",
              "    </g>\n",
              "</svg>\n",
              "  </button>\n",
              "\n",
              "<style>\n",
              "  .colab-df-quickchart {\n",
              "      --bg-color: #E8F0FE;\n",
              "      --fill-color: #1967D2;\n",
              "      --hover-bg-color: #E2EBFA;\n",
              "      --hover-fill-color: #174EA6;\n",
              "      --disabled-fill-color: #AAA;\n",
              "      --disabled-bg-color: #DDD;\n",
              "  }\n",
              "\n",
              "  [theme=dark] .colab-df-quickchart {\n",
              "      --bg-color: #3B4455;\n",
              "      --fill-color: #D2E3FC;\n",
              "      --hover-bg-color: #434B5C;\n",
              "      --hover-fill-color: #FFFFFF;\n",
              "      --disabled-bg-color: #3B4455;\n",
              "      --disabled-fill-color: #666;\n",
              "  }\n",
              "\n",
              "  .colab-df-quickchart {\n",
              "    background-color: var(--bg-color);\n",
              "    border: none;\n",
              "    border-radius: 50%;\n",
              "    cursor: pointer;\n",
              "    display: none;\n",
              "    fill: var(--fill-color);\n",
              "    height: 32px;\n",
              "    padding: 0;\n",
              "    width: 32px;\n",
              "  }\n",
              "\n",
              "  .colab-df-quickchart:hover {\n",
              "    background-color: var(--hover-bg-color);\n",
              "    box-shadow: 0 1px 2px rgba(60, 64, 67, 0.3), 0 1px 3px 1px rgba(60, 64, 67, 0.15);\n",
              "    fill: var(--button-hover-fill-color);\n",
              "  }\n",
              "\n",
              "  .colab-df-quickchart-complete:disabled,\n",
              "  .colab-df-quickchart-complete:disabled:hover {\n",
              "    background-color: var(--disabled-bg-color);\n",
              "    fill: var(--disabled-fill-color);\n",
              "    box-shadow: none;\n",
              "  }\n",
              "\n",
              "  .colab-df-spinner {\n",
              "    border: 2px solid var(--fill-color);\n",
              "    border-color: transparent;\n",
              "    border-bottom-color: var(--fill-color);\n",
              "    animation:\n",
              "      spin 1s steps(1) infinite;\n",
              "  }\n",
              "\n",
              "  @keyframes spin {\n",
              "    0% {\n",
              "      border-color: transparent;\n",
              "      border-bottom-color: var(--fill-color);\n",
              "      border-left-color: var(--fill-color);\n",
              "    }\n",
              "    20% {\n",
              "      border-color: transparent;\n",
              "      border-left-color: var(--fill-color);\n",
              "      border-top-color: var(--fill-color);\n",
              "    }\n",
              "    30% {\n",
              "      border-color: transparent;\n",
              "      border-left-color: var(--fill-color);\n",
              "      border-top-color: var(--fill-color);\n",
              "      border-right-color: var(--fill-color);\n",
              "    }\n",
              "    40% {\n",
              "      border-color: transparent;\n",
              "      border-right-color: var(--fill-color);\n",
              "      border-top-color: var(--fill-color);\n",
              "    }\n",
              "    60% {\n",
              "      border-color: transparent;\n",
              "      border-right-color: var(--fill-color);\n",
              "    }\n",
              "    80% {\n",
              "      border-color: transparent;\n",
              "      border-right-color: var(--fill-color);\n",
              "      border-bottom-color: var(--fill-color);\n",
              "    }\n",
              "    90% {\n",
              "      border-color: transparent;\n",
              "      border-bottom-color: var(--fill-color);\n",
              "    }\n",
              "  }\n",
              "</style>\n",
              "\n",
              "  <script>\n",
              "    async function quickchart(key) {\n",
              "      const quickchartButtonEl =\n",
              "        document.querySelector('#' + key + ' button');\n",
              "      quickchartButtonEl.disabled = true;  // To prevent multiple clicks.\n",
              "      quickchartButtonEl.classList.add('colab-df-spinner');\n",
              "      try {\n",
              "        const charts = await google.colab.kernel.invokeFunction(\n",
              "            'suggestCharts', [key], {});\n",
              "      } catch (error) {\n",
              "        console.error('Error during call to suggestCharts:', error);\n",
              "      }\n",
              "      quickchartButtonEl.classList.remove('colab-df-spinner');\n",
              "      quickchartButtonEl.classList.add('colab-df-quickchart-complete');\n",
              "    }\n",
              "    (() => {\n",
              "      let quickchartButtonEl =\n",
              "        document.querySelector('#df-c7a3dfae-d6c1-4c03-821a-e5b5f65de63a button');\n",
              "      quickchartButtonEl.style.display =\n",
              "        google.colab.kernel.accessAllowed ? 'block' : 'none';\n",
              "    })();\n",
              "  </script>\n",
              "</div>\n",
              "    </div>\n",
              "  </div>\n"
            ]
          },
          "metadata": {},
          "execution_count": 4
        }
      ]
    },
    {
      "cell_type": "code",
      "source": [
        "df.info()"
      ],
      "metadata": {
        "colab": {
          "base_uri": "https://localhost:8080/"
        },
        "id": "k-5replaFnbb",
        "outputId": "5b0c62b5-80dc-4e38-adb8-271eeadeb022"
      },
      "execution_count": null,
      "outputs": [
        {
          "output_type": "stream",
          "name": "stdout",
          "text": [
            "<class 'pandas.core.frame.DataFrame'>\n",
            "RangeIndex: 198 entries, 0 to 197\n",
            "Data columns (total 14 columns):\n",
            " #   Column        Non-Null Count  Dtype  \n",
            "---  ------        --------------  -----  \n",
            " 0   mpg           198 non-null    float64\n",
            " 1   cylinders     198 non-null    int64  \n",
            " 2   displacement  198 non-null    int64  \n",
            " 3   horsepower    198 non-null    object \n",
            " 4   weight        198 non-null    int64  \n",
            " 5   acceleration  198 non-null    float64\n",
            " 6   model         198 non-null    int64  \n",
            " 7   origin        198 non-null    int64  \n",
            " 8   car           198 non-null    object \n",
            " 9   Unnamed: 9    0 non-null      float64\n",
            " 10  Unnamed: 10   0 non-null      float64\n",
            " 11  Unnamed: 11   0 non-null      float64\n",
            " 12  Unnamed: 12   0 non-null      float64\n",
            " 13  Unnamed: 13   0 non-null      float64\n",
            "dtypes: float64(7), int64(5), object(2)\n",
            "memory usage: 21.8+ KB\n"
          ]
        }
      ]
    },
    {
      "cell_type": "code",
      "source": [
        "df.columns"
      ],
      "metadata": {
        "colab": {
          "base_uri": "https://localhost:8080/"
        },
        "id": "hYHPYpo7FrHz",
        "outputId": "d3ff2fb5-3f79-48b6-ecb6-c3143ad4a1c9"
      },
      "execution_count": null,
      "outputs": [
        {
          "output_type": "execute_result",
          "data": {
            "text/plain": [
              "Index(['mpg', 'cylinders', 'displacement', 'horsepower', 'weight',\n",
              "       'acceleration', 'model', 'origin', 'car'],\n",
              "      dtype='object')"
            ]
          },
          "metadata": {},
          "execution_count": 12
        }
      ]
    },
    {
      "cell_type": "code",
      "source": [
        "df.shape"
      ],
      "metadata": {
        "colab": {
          "base_uri": "https://localhost:8080/"
        },
        "id": "_G1oSHYcFtmM",
        "outputId": "d15d54cf-110f-45d8-c1bd-8de7a14ee194"
      },
      "execution_count": null,
      "outputs": [
        {
          "output_type": "execute_result",
          "data": {
            "text/plain": [
              "(198, 14)"
            ]
          },
          "metadata": {},
          "execution_count": 7
        }
      ]
    },
    {
      "cell_type": "markdown",
      "source": [
        "# Observaciones\n",
        "- El DataFrame parece contener información relacionada con automóviles, con columnas como 'mpg' (millas por galón), 'cylinders' (número de cilindros), 'displacement' (desplazamiento), 'weight' (peso), 'acceleration' (aceleración), 'model' (modelo), 'origin' (origen) y varias columnas sin nombre (Unnamed: 9 a Unnamed: 13).\n",
        "- Hay 198 observaciones en el DataFrame para todas las columnas. Esto se deduce de la fila 'count', que muestra el recuento de valores no nulos para cada columna.\n",
        "- Se observa la presencia de valores 'NaN' en las columnas Unnamed: 9 a Unnamed: 13. Esto indica que estas columnas no contienen datos válidos y podrían ser eliminadas o requerir más exploración."
      ],
      "metadata": {
        "id": "V3BDwDAXGLv7"
      }
    },
    {
      "cell_type": "code",
      "source": [
        "#Borramos las columnas unnamed para no tener problemas en el procesamiento\n",
        "unnamed_columns = [col for col in df.columns if 'Unnamed' in col]\n",
        "df = df.drop(columns=unnamed_columns, axis=1)"
      ],
      "metadata": {
        "id": "qIJF81DsGeRq"
      },
      "execution_count": null,
      "outputs": []
    },
    {
      "cell_type": "code",
      "source": [
        "#Datos duplicados\n",
        "df.duplicated().sum()"
      ],
      "metadata": {
        "colab": {
          "base_uri": "https://localhost:8080/"
        },
        "id": "tXj4QvaOGh3C",
        "outputId": "ca5acff5-f96c-4570-9b24-227627bbc60c"
      },
      "execution_count": null,
      "outputs": [
        {
          "output_type": "execute_result",
          "data": {
            "text/plain": [
              "0"
            ]
          },
          "metadata": {},
          "execution_count": 9
        }
      ]
    },
    {
      "cell_type": "code",
      "source": [
        "#Datos nulos por columna\n",
        "df.isnull().sum()"
      ],
      "metadata": {
        "colab": {
          "base_uri": "https://localhost:8080/"
        },
        "id": "DcosmokOGkA7",
        "outputId": "9cdcef80-6860-4347-bdc4-a5ea3b4edb85"
      },
      "execution_count": null,
      "outputs": [
        {
          "output_type": "execute_result",
          "data": {
            "text/plain": [
              "mpg             0\n",
              "cylinders       0\n",
              "displacement    0\n",
              "horsepower      0\n",
              "weight          0\n",
              "acceleration    0\n",
              "model           0\n",
              "origin          0\n",
              "car             0\n",
              "dtype: int64"
            ]
          },
          "metadata": {},
          "execution_count": 10
        }
      ]
    },
    {
      "cell_type": "code",
      "source": [
        "#Datos nulos en total\n",
        "df.isnull().sum().sum()"
      ],
      "metadata": {
        "colab": {
          "base_uri": "https://localhost:8080/"
        },
        "id": "awyWHtM7Gnn8",
        "outputId": "a2fee0e9-10ea-416f-e379-6a61b1613aa1"
      },
      "execution_count": null,
      "outputs": [
        {
          "output_type": "execute_result",
          "data": {
            "text/plain": [
              "0"
            ]
          },
          "metadata": {},
          "execution_count": 11
        }
      ]
    },
    {
      "cell_type": "markdown",
      "source": [
        "# Objetivo: Predecir el rendimiento en millas por galón (mpg) de un automóvil en función de diversas características como el número de cilindros (cylinders), el desplazamiento (displacement), la potencia en caballos de fuerza (horsepower), el peso (weight), la aceleración (acceleration), el año del modelo (model), el origen (origin) y el nombre del automóvil (car)."
      ],
      "metadata": {
        "id": "W6FFi4MhG-O0"
      }
    },
    {
      "cell_type": "code",
      "source": [
        "sns.barplot(x= \"mpg\", y = \"cylinders\", data = df).set(title='mpg por número de cilindros')\n",
        "plt.show()"
      ],
      "metadata": {
        "colab": {
          "base_uri": "https://localhost:8080/",
          "height": 472
        },
        "id": "LIAKR1lUHBar",
        "outputId": "79048f46-37d7-4977-c5c4-6d7eb0b4aafe"
      },
      "execution_count": null,
      "outputs": [
        {
          "output_type": "display_data",
          "data": {
            "text/plain": [
              "<Figure size 640x480 with 1 Axes>"
            ],
            "image/png": "[encoded data removed]"
          },
          "metadata": {}
        }
      ]
    },
    {
      "cell_type": "code",
      "source": [
        "sns.barplot(x= \"mpg\", y = \"horsepower\", data = df).set(title='mpg por caballos de fuerza')\n",
        "plt.show()"
      ],
      "metadata": {
        "colab": {
          "base_uri": "https://localhost:8080/",
          "height": 472
        },
        "id": "LLltfRjbHPFz",
        "outputId": "ff1e91f0-7f5c-40df-a092-099258118001"
      },
      "execution_count": null,
      "outputs": [
        {
          "output_type": "display_data",
          "data": {
            "text/plain": [
              "<Figure size 640x480 with 1 Axes>"
            ],
            "image/png": "[encoded data removed]"
          },
          "metadata": {}
        }
      ]
    },
    {
      "cell_type": "code",
      "source": [
        "sns.barplot(x= \"mpg\", y = \"weight\", data = df).set(title='mpg por peso')\n",
        "plt.show()"
      ],
      "metadata": {
        "colab": {
          "base_uri": "https://localhost:8080/",
          "height": 472
        },
        "id": "9CjKFGjYHXVr",
        "outputId": "77ad3798-c8b0-4e50-c900-40af3526432e"
      },
      "execution_count": null,
      "outputs": [
        {
          "output_type": "display_data",
          "data": {
            "text/plain": [
              "<Figure size 640x480 with 1 Axes>"
            ],
            "image/png": "[encoded data removed]"
          },
          "metadata": {}
        }
      ]
    },
    {
      "cell_type": "code",
      "source": [
        "sns.barplot(x= \"mpg\", y = \"acceleration\", data = df).set(title='mpg por aceleración')\n",
        "plt.show()"
      ],
      "metadata": {
        "colab": {
          "base_uri": "https://localhost:8080/",
          "height": 472
        },
        "id": "ZLJszY18HfiV",
        "outputId": "e59db379-ad45-4ff8-8ba8-7a20eb9ad057"
      },
      "execution_count": null,
      "outputs": [
        {
          "output_type": "display_data",
          "data": {
            "text/plain": [
              "<Figure size 640x480 with 1 Axes>"
            ],
            "image/png": "[encoded data removed]"
          },
          "metadata": {}
        }
      ]
    },
    {
      "cell_type": "code",
      "source": [
        "sns.barplot(x= \"mpg\", y = \"model\", data = df).set(title='mpg por año del modelo')\n",
        "plt.show()\n"
      ],
      "metadata": {
        "colab": {
          "base_uri": "https://localhost:8080/",
          "height": 472
        },
        "id": "awtm12A1Hoad",
        "outputId": "9a12239b-29ed-4b31-b318-02141b480be8"
      },
      "execution_count": null,
      "outputs": [
        {
          "output_type": "display_data",
          "data": {
            "text/plain": [
              "<Figure size 640x480 with 1 Axes>"
            ],
            "image/png": "[encoded data removed]"
          },
          "metadata": {}
        }
      ]
    },
    {
      "cell_type": "code",
      "source": [
        "sns.barplot(x= \"mpg\", y = \"origin\", data = df).set(title='mpg por origen')\n",
        "plt.show()\n"
      ],
      "metadata": {
        "colab": {
          "base_uri": "https://localhost:8080/",
          "height": 485
        },
        "id": "HStejP7YNuA6",
        "outputId": "a9047d1c-9f98-404a-ce42-71367cd3379d"
      },
      "execution_count": null,
      "outputs": [
        {
          "output_type": "display_data",
          "data": {
            "text/plain": [
              "<Figure size 640x480 with 1 Axes>"
            ],
            "image/png": "[encoded data removed]"
          },
          "metadata": {}
        }
      ]
    },
    {
      "cell_type": "markdown",
      "source": [
        "# 2. Preprocesamiento para modelado"
      ],
      "metadata": {
        "id": "oesKRGrAHvWF"
      }
    },
    {
      "cell_type": "code",
      "source": [
        "# Calcula la matriz de correlación\n",
        "correlation_matrix = df.corr()\n",
        "\n",
        "# Muestra la matriz de correlación\n",
        "print(correlation_matrix)"
      ],
      "metadata": {
        "colab": {
          "base_uri": "https://localhost:8080/"
        },
        "id": "AA5sqZtRIJ0O",
        "outputId": "aeff3f44-1968-4caf-d6eb-4bec52b7ff81"
      },
      "execution_count": null,
      "outputs": [
        {
          "output_type": "stream",
          "name": "stdout",
          "text": [
            "                   mpg  cylinders  displacement    weight  acceleration  \\\n",
            "mpg           1.000000  -0.866787     -0.885137 -0.904237      0.531879   \n",
            "cylinders    -0.866787   1.000000      0.956238  0.911898     -0.635546   \n",
            "displacement -0.885137   0.956238      1.000000  0.932328     -0.675470   \n",
            "weight       -0.904237   0.911898      0.932328  1.000000     -0.558045   \n",
            "acceleration  0.531879  -0.635546     -0.675470 -0.558045      1.000000   \n",
            "model         0.181791  -0.165582     -0.195392 -0.080858      0.296064   \n",
            "origin        0.657652  -0.663362     -0.663778 -0.619625      0.264345   \n",
            "\n",
            "                 model    origin  \n",
            "mpg           0.181791  0.657652  \n",
            "cylinders    -0.165582 -0.663362  \n",
            "displacement -0.195392 -0.663778  \n",
            "weight       -0.080858 -0.619625  \n",
            "acceleration  0.296064  0.264345  \n",
            "model         1.000000  0.030047  \n",
            "origin        0.030047  1.000000  \n"
          ]
        },
        {
          "output_type": "stream",
          "name": "stderr",
          "text": [
            "<ipython-input-20-577361b548b4>:2: FutureWarning: The default value of numeric_only in DataFrame.corr is deprecated. In a future version, it will default to False. Select only valid columns or specify the value of numeric_only to silence this warning.\n",
            "  correlation_matrix = df.corr()\n"
          ]
        }
      ]
    },
    {
      "cell_type": "code",
      "source": [
        "plt.figure(figsize= (10,10))\n",
        "sns.heatmap(df.corr(), vmin = -1, vmax=1, annot = True, linewidth = .5)"
      ],
      "metadata": {
        "colab": {
          "base_uri": "https://localhost:8080/",
          "height": 911
        },
        "id": "XGQscIhJIEP4",
        "outputId": "65e0f33e-832c-47b3-dee1-6808ee1a7f04"
      },
      "execution_count": null,
      "outputs": [
        {
          "output_type": "stream",
          "name": "stderr",
          "text": [
            "<ipython-input-19-134bf2387a9b>:2: FutureWarning: The default value of numeric_only in DataFrame.corr is deprecated. In a future version, it will default to False. Select only valid columns or specify the value of numeric_only to silence this warning.\n",
            "  sns.heatmap(df.corr(), vmin = -1, vmax=1, annot = True, linewidth = .5)\n"
          ]
        },
        {
          "output_type": "execute_result",
          "data": {
            "text/plain": [
              "<Axes: >"
            ]
          },
          "metadata": {},
          "execution_count": 19
        },
        {
          "output_type": "display_data",
          "data": {
            "text/plain": [
              "<Figure size 1000x1000 with 2 Axes>"
            ],
            "image/png": "[encoded data removed]"
          },
          "metadata": {}
        }
      ]
    },
    {
      "cell_type": "markdown",
      "source": [
        "# Observaciones\n",
        "- La variable 'mpg' (millas por galón) tiene una correlación negativa fuerte con 'cylinders' (-0.866787), 'displacement' (-0.885137), y 'weight' (-0.904237). Esto sugiere que a medida que el número de cilindros, el desplazamiento y el peso del automóvil aumentan, el rendimiento tiende a disminuir.\n",
        "-La variable 'mpg' tiene una correlación negativa moderada con 'acceleration' (-0.558045). Esto indica que a medida que la aceleración disminuye, el rendimiento tiende a aumentar.\n",
        "- La variable 'mpg' tiene una correlación positiva moderada con 'origin' (0.657652). Esto sugiere que hay una relación moderadamente positiva entre el rendimiento y el origen del automóvil.\n",
        "- La variable 'mpg' tiene una correlación relativamente débil con 'model' (0.181791), lo que sugiere que el año del modelo no tiene una influencia significativa en el rendimiento del automóvil."
      ],
      "metadata": {
        "id": "4iOyRAyKIU-v"
      }
    },
    {
      "cell_type": "code",
      "source": [
        "from sklearn.preprocessing import StandardScaler\n",
        "\n",
        "columns_to_normalize = ['cylinders', 'displacement', 'weight', 'acceleration']\n",
        "\n",
        "# Crea un objeto StandardScaler\n",
        "scaler = StandardScaler()\n",
        "\n",
        "# Aplica la normalización a las columnas seleccionadas\n",
        "df[columns_to_normalize] = scaler.fit_transform(df[columns_to_normalize])\n",
        "\n",
        "# Muestra el DataFrame después de la normalización\n",
        "print(df.head())"
      ],
      "metadata": {
        "colab": {
          "base_uri": "https://localhost:8080/"
        },
        "id": "UwysEsXGI4nm",
        "outputId": "799bcb50-2744-4036-d612-f63e12e2cbaa"
      },
      "execution_count": null,
      "outputs": [
        {
          "output_type": "stream",
          "name": "stdout",
          "text": [
            "    mpg  cylinders  displacement horsepower    weight  acceleration  model  \\\n",
            "0  18.0   1.179744      0.727047        130  0.349747     -1.049016     70   \n",
            "1  15.0   1.179744      1.101319        165  0.552445     -1.223529     70   \n",
            "2  18.0   1.179744      0.822791        150  0.276818     -1.398041     70   \n",
            "3  16.0   1.179744      0.700935        150  0.273601     -1.049016     70   \n",
            "4  17.0   1.179744      0.683527        140  0.290761     -1.572554     70   \n",
            "\n",
            "   origin                        car  \n",
            "0       1  chevrolet chevelle malibu  \n",
            "1       1          buick skylark 320  \n",
            "2       1         plymouth satellite  \n",
            "3       1              amc rebel sst  \n",
            "4       1                ford torino  \n"
          ]
        }
      ]
    },
    {
      "cell_type": "markdown",
      "source": [
        "# 3. Procesamiento"
      ],
      "metadata": {
        "id": "RFZZdF0WObzk"
      }
    },
    {
      "cell_type": "markdown",
      "source": [
        "En este problema de predicción de eficiencia de combustible (mpg), la elección entre regresión lineal y Random Forest se basa en la naturaleza de la relación entre las características del vehículo y la variable objetivo. La regresión lineal se selecciona cuando se presume que la relación es principalmente lineal, proporcionando una interpretación clara de la influencia de cada característica. Por otro lado, Random Forest se elige cuando se anticipa una relación no lineal o compleja, ya que puede capturar patrones más sutiles y manejar interacciones entre características"
      ],
      "metadata": {
        "id": "QO9qNIn_OYpy"
      }
    },
    {
      "cell_type": "code",
      "source": [
        "from sklearn.model_selection import train_test_split\n",
        "from sklearn.linear_model import LinearRegression\n",
        "from sklearn.metrics import mean_squared_error, r2_score\n",
        "import pandas as pd\n",
        "\n",
        "# Selecciona las características (X) y la variable objetivo (y)\n",
        "X = df[['cylinders', 'displacement', 'weight', 'acceleration']]\n",
        "y = df['mpg']\n",
        "\n",
        "# División del conjunto de datos en conjuntos de entrenamiento y prueba\n",
        "X_train, X_test, y_train, y_test = train_test_split(X, y, test_size=0.2, random_state=42)\n",
        "\n",
        "# Crear un modelo de regresión lineal\n",
        "model1LR = LinearRegression()\n",
        "\n",
        "# Entrenar el modelo con los datos de entrenamiento\n",
        "model1LR.fit(X_train, y_train)\n",
        "\n",
        "# Realizar predicciones en el conjunto de prueba\n",
        "y_pred = model1LR.predict(X_test)\n",
        "\n",
        "# Evaluar el rendimiento del modelo\n",
        "mse1LR = mean_squared_error(y_test, y_pred)\n",
        "r2_1LR = r2_score(y_test, y_pred)\n",
        "\n",
        "print(f'Mean Squared Error (Random Forest): {mse1LR}')\n",
        "print(f'R^2 Score (Random Forest): {r2_1LR}')"
      ],
      "metadata": {
        "colab": {
          "base_uri": "https://localhost:8080/"
        },
        "id": "cvJbesIwJFeO",
        "outputId": "6dbbc37f-cce7-4bbb-ef8a-c4f46dce0d9f"
      },
      "execution_count": null,
      "outputs": [
        {
          "output_type": "stream",
          "name": "stdout",
          "text": [
            "Mean Squared Error (Random Forest): 5.321349017181537\n",
            "R^2 Score (Random Forest): 0.8244494368014174\n"
          ]
        }
      ]
    },
    {
      "cell_type": "code",
      "source": [
        "# Selecciona las características (X) y la variable objetivo (y)\n",
        "X = df[['cylinders', 'displacement', 'weight', 'acceleration']]\n",
        "y = df['mpg']\n",
        "\n",
        "# División del conjunto de datos en conjuntos de entrenamiento y prueba\n",
        "X_train, X_test, y_train, y_test = train_test_split(X, y, test_size=0.5, random_state=32)\n",
        "\n",
        "# Crear un modelo de regresión lineal\n",
        "model2LR = LinearRegression()\n",
        "\n",
        "# Entrenar el modelo con los datos de entrenamiento\n",
        "model2LR.fit(X_train, y_train)\n",
        "\n",
        "# Realizar predicciones en el conjunto de prueba\n",
        "y_pred = model2LR.predict(X_test)\n",
        "\n",
        "# Evaluar el rendimiento del modelo\n",
        "mse2LR = mean_squared_error(y_test, y_pred)\n",
        "r2_2LR = r2_score(y_test, y_pred)\n",
        "\n",
        "print(f'Mean Squared Error (Random Forest): {mse2LR}')\n",
        "print(f'R^2 Score (Random Forest): {r2_2LR}')"
      ],
      "metadata": {
        "colab": {
          "base_uri": "https://localhost:8080/"
        },
        "id": "F4ddN1xnJkxH",
        "outputId": "0332d298-6de5-478e-ff9b-0077958b3e84"
      },
      "execution_count": null,
      "outputs": [
        {
          "output_type": "stream",
          "name": "stdout",
          "text": [
            "Mean Squared Error (Random Forest): 5.21556428156409\n",
            "R^2 Score (Random Forest): 0.8485765792153609\n"
          ]
        }
      ]
    },
    {
      "cell_type": "code",
      "source": [
        "# Selecciona las características (X) y la variable objetivo (y)\n",
        "X = df[['cylinders', 'displacement', 'weight', 'acceleration']]\n",
        "y = df['mpg']\n",
        "\n",
        "# División del conjunto de datos en conjuntos de entrenamiento y prueba\n",
        "X_train, X_test, y_train, y_test = train_test_split(X, y, test_size=0.6, random_state=52)\n",
        "\n",
        "# Crear un modelo de regresión lineal\n",
        "model3LR = LinearRegression()\n",
        "\n",
        "# Entrenar el modelo con los datos de entrenamiento\n",
        "model3LR.fit(X_train, y_train)\n",
        "\n",
        "# Realizar predicciones en el conjunto de prueba\n",
        "y_pred = model3LR.predict(X_test)\n",
        "\n",
        "# Evaluar el rendimiento del modelo\n",
        "mse3LR = mean_squared_error(y_test, y_pred)\n",
        "r2_3LR = r2_score(y_test, y_pred)\n",
        "\n",
        "print(f'Mean Squared Error (Random Forest): {mse3LR}')\n",
        "print(f'R^2 Score (Random Forest): {r2_3LR}')"
      ],
      "metadata": {
        "colab": {
          "base_uri": "https://localhost:8080/"
        },
        "id": "gTETzIs3JuC-",
        "outputId": "c5932d89-97cd-4f3c-fa5b-f31fe7358a70"
      },
      "execution_count": null,
      "outputs": [
        {
          "output_type": "stream",
          "name": "stdout",
          "text": [
            "Mean Squared Error (Random Forest): 5.588050076655814\n",
            "R^2 Score (Random Forest): 0.8267570026653991\n"
          ]
        }
      ]
    },
    {
      "cell_type": "code",
      "source": [
        "from sklearn.ensemble import RandomForestRegressor\n",
        "from sklearn.model_selection import train_test_split\n",
        "from sklearn.metrics import mean_squared_error, r2_score\n",
        "\n",
        "# Selecciona las características (X) y la variable objetivo (y)\n",
        "X = df[['cylinders', 'displacement', 'weight', 'acceleration']]\n",
        "y = df['mpg']\n",
        "\n",
        "# División del conjunto de datos en conjuntos de entrenamiento y prueba\n",
        "X_train, X_test, y_train, y_test = train_test_split(X, y, test_size=0.2, random_state=42)\n",
        "\n",
        "# Crear un modelo de regresión de bosques aleatorios\n",
        "\n",
        "random_forest_model1 = RandomForestRegressor(n_estimators=100, max_depth=None, random_state=42)\n",
        "\n",
        "# Entrenar el modelo con los datos de entrenamiento\n",
        "random_forest_model1.fit(X_train, y_train)\n",
        "\n",
        "# Realizar predicciones en el conjunto de prueba\n",
        "y_pred = random_forest_model1.predict(X_test)\n",
        "\n",
        "# Evaluar el rendimiento del modelo\n",
        "mse1RF = mean_squared_error(y_test, y_pred)\n",
        "r2_1RF = r2_score(y_test, y_pred)\n",
        "\n",
        "print(f'Mean Squared Error (Random Forest): {mse1RF}')\n",
        "print(f'R^2 Score (Random Forest): {r2_1RF}')"
      ],
      "metadata": {
        "colab": {
          "base_uri": "https://localhost:8080/"
        },
        "id": "feuBgQx8KErH",
        "outputId": "9c510747-05bd-482b-9506-3b0da8e9386c"
      },
      "execution_count": null,
      "outputs": [
        {
          "output_type": "stream",
          "name": "stdout",
          "text": [
            "Mean Squared Error (Random Forest): 5.584440625\n",
            "R^2 Score (Random Forest): 0.8157700812890788\n"
          ]
        }
      ]
    },
    {
      "cell_type": "code",
      "source": [
        "\n",
        "# Selecciona las características (X) y la variable objetivo (y)\n",
        "X = df[['cylinders', 'displacement', 'weight', 'acceleration']]\n",
        "y = df['mpg']\n",
        "\n",
        "# División del conjunto de datos en conjuntos de entrenamiento y prueba\n",
        "X_train, X_test, y_train, y_test = train_test_split(X, y, test_size=0.2, random_state=42)\n",
        "\n",
        "# Crear un modelo de regresión de bosques aleatorios\n",
        "\n",
        "random_forest_model2 = RandomForestRegressor(n_estimators=200, max_depth=None, random_state=52)\n",
        "\n",
        "# Entrenar el modelo con los datos de entrenamiento\n",
        "random_forest_model2.fit(X_train, y_train)\n",
        "\n",
        "# Realizar predicciones en el conjunto de prueba\n",
        "y_pred = random_forest_model2.predict(X_test)\n",
        "\n",
        "# Evaluar el rendimiento del modelo\n",
        "mse2RF = mean_squared_error(y_test, y_pred)\n",
        "r2_2RF = r2_score(y_test, y_pred)\n",
        "\n",
        "print(f'Mean Squared Error (Random Forest): {mse2RF}')\n",
        "print(f'R^2 Score (Random Forest): {r2_2RF}')"
      ],
      "metadata": {
        "colab": {
          "base_uri": "https://localhost:8080/"
        },
        "id": "y7yW-KAlKQEm",
        "outputId": "a7de655f-bf19-43b8-e443-144ab90a1027"
      },
      "execution_count": null,
      "outputs": [
        {
          "output_type": "stream",
          "name": "stdout",
          "text": [
            "Mean Squared Error (Random Forest): 5.443009726562501\n",
            "R^2 Score (Random Forest): 0.8204358669374584\n"
          ]
        }
      ]
    },
    {
      "cell_type": "code",
      "source": [
        "from sklearn.ensemble import RandomForestRegressor\n",
        "from sklearn.model_selection import train_test_split\n",
        "from sklearn.metrics import mean_squared_error, r2_score\n",
        "\n",
        "# Selecciona las características (X) y la variable objetivo (y)\n",
        "X = df[['cylinders', 'displacement', 'weight', 'acceleration']]\n",
        "y = df['mpg']\n",
        "\n",
        "# División del conjunto de datos en conjuntos de entrenamiento y prueba\n",
        "X_train, X_test, y_train, y_test = train_test_split(X, y, test_size=0.2, random_state=42)\n",
        "\n",
        "# Crear un modelo de regresión de bosques aleatorios\n",
        "\n",
        "random_forest_model3 = RandomForestRegressor(n_estimators=600, max_depth=None, random_state=62)\n",
        "\n",
        "# Entrenar el modelo con los datos de entrenamiento\n",
        "random_forest_model3.fit(X_train, y_train)\n",
        "\n",
        "# Realizar predicciones en el conjunto de prueba\n",
        "y_pred = random_forest_model3.predict(X_test)\n",
        "\n",
        "# Evaluar el rendimiento del modelo\n",
        "mse3RF = mean_squared_error(y_test, y_pred)\n",
        "r2_3RF = r2_score(y_test, y_pred)\n",
        "\n",
        "print(f'Mean Squared Error (Random Forest): {mse3RF}')\n",
        "print(f'R^2 Score (Random Forest): {r2_3RF}')"
      ],
      "metadata": {
        "colab": {
          "base_uri": "https://localhost:8080/"
        },
        "id": "c3fL3XLjKZ3I",
        "outputId": "ec972ed9-5c4e-418b-c71c-6e772d0a1a79"
      },
      "execution_count": null,
      "outputs": [
        {
          "output_type": "stream",
          "name": "stdout",
          "text": [
            "Mean Squared Error (Random Forest): 5.445502862152779\n",
            "R^2 Score (Random Forest): 0.8203536187414482\n"
          ]
        }
      ]
    },
    {
      "cell_type": "markdown",
      "source": [
        " Tabla comparativa entre modelos"
      ],
      "metadata": {
        "id": "M6LxRxtjMcyZ"
      }
    },
    {
      "cell_type": "code",
      "source": [
        "# Crear un diccionario con los resultados\n",
        "results = {\n",
        "    'Modelo': ['Regresión Lineal 1', 'Regresión Lineal 2', 'Regresión Lineal 3',\n",
        "               'Random Forest 1', 'Random Forest 2', 'Random Forest 3'],\n",
        "    'Mean Squared Error': [mse1LR, mse2LR, mse3LR, mse1RF, mse2RF, mse3RF],\n",
        "    'R^2 Score': [r2_1LR, r2_2LR, r2_3LR, r2_1RF, r2_2RF, r2_3RF]\n",
        "}\n",
        "\n",
        "# Crear un DataFrame a partir del diccionario\n",
        "df_results = pd.DataFrame(results)\n",
        "\n",
        "# Mostrar la tabla comparativa\n",
        "print(df_results)"
      ],
      "metadata": {
        "colab": {
          "base_uri": "https://localhost:8080/"
        },
        "id": "6kHdGAZeLUSA",
        "outputId": "d67f3e39-6d07-4b07-8ce4-0e5ae9673a7d"
      },
      "execution_count": null,
      "outputs": [
        {
          "output_type": "stream",
          "name": "stdout",
          "text": [
            "               Modelo  Mean Squared Error  R^2 Score\n",
            "0  Regresión Lineal 1            5.321349   0.824449\n",
            "1  Regresión Lineal 2            5.215564   0.848577\n",
            "2  Regresión Lineal 3            5.588050   0.826757\n",
            "3     Random Forest 1            5.584441   0.815770\n",
            "4     Random Forest 2            5.443010   0.820436\n",
            "5     Random Forest 3            5.445503   0.820354\n"
          ]
        }
      ]
    },
    {
      "cell_type": "markdown",
      "source": [
        "# Observaciones\n",
        "- El \"Regresión Lineal 2\" tiene el Mean Squared Error más bajo (5.215564), lo que indica un mejor rendimiento en términos de precisión en comparación con los otros modelos.\n",
        "- El \"Regresión Lineal 2\" también tiene el R^2 Score más alto (0.848577), indicando una mejor capacidad de explicar la variabilidad en los datos en comparación con los otros modelos.\n",
        "- Los modelos de Random Forest (1, 2 y 3) tienen valores de Mean Squared Error bastante cercanos entre sí, pero ligeramente más altos que los de la Regresión Lineal.\n",
        "- En términos de R^2 Score, los modelos de Random Forest también son cercanos, pero ligeramente más bajos que el mejor modelo de Regresión Lineal.\n",
        "- En general, los modelos de Regresión Lineal parecen desempeñarse mejor en este conjunto de datos específico, según las métricas proporcionadas."
      ],
      "metadata": {
        "id": "_ZvdBYnbNBr6"
      }
    },
    {
      "cell_type": "markdown",
      "source": [
        "# 4. Conclusiones\n",
        "\n",
        "- La exploración inicial del dataset revela la presencia de variables relacionadas con automóviles y señala la existencia de columnas sin nombre y valores nulos. Se decide eliminar las columnas sin nombre y abordar los valores nulos para preparar los datos para su análisis.\n",
        "- El procesamiento de datos incluye la eliminación de columnas sin nombre, la identificación y manejo de datos duplicados y nulos, y la normalización de ciertas características para facilitar el modelado.\n",
        "- Se calcula y visualiza la matriz de correlación, lo que proporciona información sobre las relaciones lineales entre las variables. Destacan las correlaciones negativas fuertes de 'mpg' con 'cylinders', 'displacement' y 'weight', así como correlaciones moderadas con otras variables.\n",
        "- Se eligen dos enfoques de modelado: Regresión Lineal y Bosques Aleatorios. Se entrena cada modelo con tres conjuntos de datos diferentes y se evalúa su rendimiento utilizando Mean Squared Error y R^2 Score.\n",
        "-  Se presenta una tabla comparativa de los modelos, revelando que la \"Regresión Lineal 2\" supera en rendimiento a otros modelos, con el Mean Squared Error más bajo y el R^2 Score más alto. Las conclusiones sugieren que, en este conjunto de datos específico, la Regresión Lineal parece ser la elección preferida."
      ],
      "metadata": {
        "id": "YMhI8Nh6OjwS"
      }
    }
  ]
}